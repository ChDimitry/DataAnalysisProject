{
 "cells": [
  {
   "cell_type": "markdown",
   "metadata": {},
   "source": [
    "## Dictioneries"
   ]
  },
  {
   "cell_type": "code",
   "execution_count": 1,
   "metadata": {},
   "outputs": [
    {
     "name": "stdout",
     "output_type": "stream",
     "text": [
      "Number-Square Dictionary: {1: 1, 2: 4, 3: 9, 4: 16, 5: 25, 6: 36, 7: 49, 8: 64, 9: 81, 10: 100}\n"
     ]
    }
   ],
   "source": [
    "# Create a list of numbers\n",
    "numbers = [1, 2, 3, 4, 5, 6, 7, 8, 9, 10]\n",
    "\n",
    "# Use dictionary comprehension to create a dictionary with squares of numbers\n",
    "squares_dict = {num: num**2 for num in numbers}\n",
    "\n",
    "# Output the result\n",
    "print(\"Number-Square Dictionary:\", squares_dict)"
   ]
  },
  {
   "cell_type": "code",
   "execution_count": 3,
   "metadata": {},
   "outputs": [
    {
     "name": "stdout",
     "output_type": "stream",
     "text": [
      "Name-Age Dictionary: {'Alice': 25, 'Bob': 30, 'Charlie': 35, 'Diana': 40}\n"
     ]
    }
   ],
   "source": [
    "# Create a list of tuples containing names and ages\n",
    "name_age_list = [(\"Alice\", 25), (\"Bob\", 30), (\"Charlie\", 35), (\"Diana\", 40)]\n",
    "\n",
    "# Use dictionary comprehension to create a dictionary\n",
    "name_age_dict = {name: age for name, age in name_age_list}\n",
    "\n",
    "# Output the result\n",
    "print(\"Name-Age Dictionary:\", name_age_dict)"
   ]
  },
  {
   "cell_type": "code",
   "execution_count": 2,
   "metadata": {},
   "outputs": [
    {
     "name": "stdout",
     "output_type": "stream",
     "text": [
      "Unique Words: {'kiwi', 'apple', 'grape', 'orange', 'banana'}\n"
     ]
    }
   ],
   "source": [
    "# Create a list of words\n",
    "words = [\"apple\", \"banana\", \"apple\", \"orange\", \"banana\", \"grape\", \"kiwi\"]\n",
    "\n",
    "# Use set comprehension to create a set of unique words\n",
    "unique_words = {word for word in words}\n",
    "\n",
    "# Output the result\n",
    "print(\"Unique Words:\", unique_words)"
   ]
  }
 ],
 "metadata": {
  "kernelspec": {
   "display_name": "Python 3",
   "language": "python",
   "name": "python3"
  },
  "language_info": {
   "codemirror_mode": {
    "name": "ipython",
    "version": 3
   },
   "file_extension": ".py",
   "mimetype": "text/x-python",
   "name": "python",
   "nbconvert_exporter": "python",
   "pygments_lexer": "ipython3",
   "version": "3.11.9"
  }
 },
 "nbformat": 4,
 "nbformat_minor": 2
}
