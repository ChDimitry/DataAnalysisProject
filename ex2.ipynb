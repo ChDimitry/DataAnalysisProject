{
 "cells": [
  {
   "cell_type": "code",
   "execution_count": null,
   "metadata": {},
   "outputs": [],
   "source": [
    "import numpy as np"
   ]
  },
  {
   "cell_type": "markdown",
   "metadata": {},
   "source": [
    "## Task 1"
   ]
  },
  {
   "cell_type": "code",
   "execution_count": 30,
   "metadata": {},
   "outputs": [
    {
     "name": "stdout",
     "output_type": "stream",
     "text": [
      "(10,) int32 1 10\n",
      "(3, 4) int32 2 12\n",
      "(2, 3, 3) float64 3 18\n"
     ]
    }
   ],
   "source": [
    "array_1D = np.array([1, 2, 3, 4, 5, 6, 7, 8, 9, 10])\n",
    "# array_2D = np.array([np.random.randint(10, 50) for _ in range(12)]).reshape(3, 4)\n",
    "array_2D = np.random.randint(10, 50, size=(3, 4))\n",
    "array_3D = np.zeros(18).reshape(2, 3, 3)\n",
    "\n",
    "print(array_1D.shape, array_1D.dtype, array_1D.ndim, array_1D.size)\n",
    "print(array_2D.shape, array_2D.dtype, array_2D.ndim, array_2D.size)\n",
    "print(array_3D.shape, array_3D.dtype, array_3D.ndim, array_3D.size)"
   ]
  },
  {
   "cell_type": "markdown",
   "metadata": {},
   "source": [
    "## Task 2"
   ]
  },
  {
   "cell_type": "code",
   "execution_count": 19,
   "metadata": {},
   "outputs": [
    {
     "name": "stdout",
     "output_type": "stream",
     "text": [
      "[1.1 2.2 3.3 4.4 5.5] [1 2 3 4 5]\n",
      "Converting Float to Int slices the decimal part of the float. 1.1 -> 1\n"
     ]
    }
   ],
   "source": [
    "float_array = np.array([1.1, 2.2, 3.3, 4.4, 5.5])\n",
    "int_array = float_array.astype(int)\n",
    "print(float_array, int_array)\n",
    "print(f'Converting Float to Int slices the decimal part of the float. {float_array[0]} -> {int_array[0]}')"
   ]
  },
  {
   "cell_type": "markdown",
   "metadata": {},
   "source": [
    "## Task 3"
   ]
  },
  {
   "cell_type": "code",
   "execution_count": 31,
   "metadata": {},
   "outputs": [
    {
     "name": "stdout",
     "output_type": "stream",
     "text": [
      "[32 14 19 16 24]\n",
      "[  0 -10   7  -6   0]\n",
      "[256  24  78  55 144]\n",
      "[1.         0.16666667 2.16666667 0.45454545 1.        ]\n",
      "[4.         1.41421356 3.60555128 2.23606798 3.46410162] [8.88611052e+06 1.62754791e+05 4.03428793e+02 5.98741417e+04\n",
      " 1.62754791e+05]\n"
     ]
    }
   ],
   "source": [
    "# a = np.array([np.random.randint(1, 20) for _ in range(5)])\n",
    "# b = np.array([np.random.randint(1, 20) for _ in range(5)])\n",
    "a = np.random.randint(1, 20, size=5)\n",
    "b = np.random.randint(1, 20, size=5)\n",
    "print(a + b)\n",
    "print(a - b)\n",
    "print(a * b)\n",
    "print(a / b)\n",
    "sqroot = np.sqrt(a)\n",
    "exp = np.exp(b)\n",
    "print(sqroot, exp)"
   ]
  },
  {
   "cell_type": "markdown",
   "metadata": {},
   "source": [
    "## Task 4"
   ]
  },
  {
   "cell_type": "code",
   "execution_count": null,
   "metadata": {},
   "outputs": [
    {
     "name": "stdout",
     "output_type": "stream",
     "text": [
      "[[28 29 92 99  3]\n",
      " [36 18 17 75 77]\n",
      " [71 77 78 44 49]\n",
      " [53 50 63 32 45]]\n",
      "[[28 29 92 99  3]\n",
      " [36 18 17 75 77]]\n",
      "[[92 99  3]\n",
      " [17 75 77]\n",
      " [78 44 49]\n",
      " [63 32 45]]\n",
      "[[77 78 44]\n",
      " [50 63 32]]\n",
      "[92 99 75 77 71 77 78 53 63]\n",
      "[[28 29 92 99  0]\n",
      " [36  0  0 75 77]\n",
      " [71 77 78 44 49]\n",
      " [53 50 63 32 45]]\n"
     ]
    }
   ],
   "source": [
    "# ex_array = np.array([np.random.randint(1, 100) for _ in range(20)]).reshape(4, 5)\n",
    "ex_array = np.random.randint(1, 100, size=(4, 5))\n",
    "print(ex_array)\n",
    "# Get the first two rows\n",
    "print(ex_array[:2])\n",
    "# Get the last three columns\n",
    "print(ex_array[:, -3:])\n",
    "# Get the first two rows and the last two columns\n",
    "print(ex_array[2:4, 1:4])\n",
    "\n",
    "# Get all values greater than 50\n",
    "g_50_array = ex_array[ex_array > 50]\n",
    "print(g_50_array)\n",
    "# Replace all values less than 20 with 0\n",
    "ex_array[ex_array < 20] = 0\n",
    "print(ex_array)"
   ]
  },
  {
   "cell_type": "markdown",
   "metadata": {},
   "source": [
    "## Task 5"
   ]
  },
  {
   "cell_type": "code",
   "execution_count": 52,
   "metadata": {},
   "outputs": [
    {
     "name": "stdout",
     "output_type": "stream",
     "text": [
      "[[[8 1 4 5]\n",
      "  [7 9 9 1]]\n",
      "\n",
      " [[9 9 4 6]\n",
      "  [7 2 8 9]]\n",
      "\n",
      " [[8 8 9 9]\n",
      "  [7 8 6 6]]]\n",
      "[[[8 9 8]\n",
      "  [7 7 7]]\n",
      "\n",
      " [[1 9 8]\n",
      "  [9 2 8]]\n",
      "\n",
      " [[4 4 9]\n",
      "  [9 8 6]]\n",
      "\n",
      " [[5 6 9]\n",
      "  [1 9 6]]]\n",
      "[[[8 1 4 5]\n",
      "  [9 9 4 6]\n",
      "  [8 8 9 9]]\n",
      "\n",
      " [[7 9 9 1]\n",
      "  [7 2 8 9]\n",
      "  [7 8 6 6]]]\n"
     ]
    }
   ],
   "source": [
    "array_3D = np.random.randint(1, 10, size=(3, 2, 4))\n",
    "print(array_3D)\n",
    "print(array_3D.T)\n",
    "print(array_3D.swapaxes(0, 1))"
   ]
  },
  {
   "cell_type": "markdown",
   "metadata": {},
   "source": [
    "## Task 6"
   ]
  },
  {
   "cell_type": "code",
   "execution_count": 69,
   "metadata": {},
   "outputs": [
    {
     "name": "stdout",
     "output_type": "stream",
     "text": [
      "[ 5 12 11  9  9]\n",
      "Seeding the random number generator is useful for reproducibility.\n"
     ]
    }
   ],
   "source": [
    "array_1D = np.random.random(size=10)\n",
    "array_2D = np.random.randint(5, 15, size=(3, 3))\n",
    "\n",
    "rand_gen = np.random.default_rng(seed=42)\n",
    "array_1D = rand_gen.integers(5, 15, size=5)\n",
    "print(array_1D)\n",
    "print('Seeding the random number generator is useful for reproducibility.')\n"
   ]
  },
  {
   "cell_type": "markdown",
   "metadata": {},
   "source": [
    "## Task 7"
   ]
  },
  {
   "cell_type": "code",
   "execution_count": 91,
   "metadata": {},
   "outputs": [
    {
     "name": "stdout",
     "output_type": "stream",
     "text": [
      "[ 1  3  3  4  6  7  8 13 14 15 16 16 17 17 17 17 18 18 18 18 19 20 20 21\n",
      " 22 23 23 24 27 27 28 29 29 29 30 31 31 32 34 34 35 35 38 38 39 43 43 44\n",
      " 44 49]\n",
      "[49 44 44 43 43 39 38 38 35 35 34 34 32 31 31 30 29 29 29 28 27 27 24 23\n",
      " 23 22 21 20 20 19 18 18 18 18 17 17 17 17 16 16 15 14 13  8  7  6  4  3\n",
      "  3  1]\n",
      "[11 12 14 15 18 19 20 23 24 25 27 28 30 31 32 33 34 37 38 39 42 43 45 46\n",
      " 47 48 49 50 53 54 55 56 57 59]\n",
      "[14 15 18 19 20 23 24 27 28 30 31 32 34 38 39 43 49]\n",
      "[ 1  3  4  6  7  8 11 12 13 14 15 16 17 18 19 20 21 22 23 24 25 27 28 29\n",
      " 30 31 32 33 34 35 37 38 39 42 43 44 45 46 47 48 49 50 53 54 55 56 57 59]\n",
      "[ 1  3  4  6  7  8 13 16 17 21 22 29 35 44]\n"
     ]
    }
   ],
   "source": [
    "array_1D = np.random.randint(1, 50, size=50)\n",
    "print(np.sort(array_1D))\n",
    "print(np.sort(array_1D)[::-1])\n",
    "array_1D_2 = np.random.randint(10, 60, size=50)\n",
    "print(np.unique(array_1D_2))\n",
    "print(np.intersect1d(array_1D, array_1D_2))\n",
    "print(np.union1d(array_1D, array_1D_2))\n",
    "print(np.setdiff1d(array_1D, array_1D_2))"
   ]
  }
 ],
 "metadata": {
  "kernelspec": {
   "display_name": "Python 3",
   "language": "python",
   "name": "python3"
  },
  "language_info": {
   "codemirror_mode": {
    "name": "ipython",
    "version": 3
   },
   "file_extension": ".py",
   "mimetype": "text/x-python",
   "name": "python",
   "nbconvert_exporter": "python",
   "pygments_lexer": "ipython3",
   "version": "3.11.9"
  }
 },
 "nbformat": 4,
 "nbformat_minor": 2
}
